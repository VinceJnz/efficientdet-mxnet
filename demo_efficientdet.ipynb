{
 "cells": [
  {
   "cell_type": "code",
   "execution_count": null,
   "metadata": {},
   "outputs": [],
   "source": [
    "import os\n",
    "import argparse\n",
    "import mxnet as mx\n",
    "import gluoncv as gcv"
   ]
  },
  {
   "cell_type": "code",
   "execution_count": null,
   "metadata": {},
   "outputs": [],
   "source": [
    "gcv.utils.check_version('0.6.0')\n",
    "from matplotlib import pyplot as plt\n",
    "from model.efficientdet import get_efficientdet"
   ]
  },
  {
   "cell_type": "code",
   "execution_count": null,
   "metadata": {},
   "outputs": [],
   "source": [
    "def load_img(img_path, img_shape=512, mean=(0.485, 0.456, 0.406),\n",
    "                   std=(0.229, 0.224, 0.225)):\n",
    "    img = mx.image.imread(img_path)\n",
    "    img = mx.nd.image.resize(img, (img_shape, img_shape))\n",
    "    orig_img = img.asnumpy().astype('uint8')\n",
    "    img = mx.nd.image.to_tensor(img)\n",
    "    img = mx.nd.image.normalize(img, mean=mean, std=std)\n",
    "    img = img.expand_dims(0)\n",
    "    return img, orig_img"
   ]
  },
  {
   "cell_type": "code",
   "execution_count": null,
   "metadata": {},
   "outputs": [],
   "source": [
    "def parse_args():\n",
    "    parser = argparse.ArgumentParser(description='Test with efficientdet networks.')\n",
    "    parser.add_argument('--network', type=str, default='efficientdet-b1',\n",
    "                        help=\"Base network name\")\n",
    "    parser.add_argument('--data-shape', type=int, default=640,\n",
    "                        help=\"Input data shape, use 300, 512.\")\n",
    "    parser.add_argument('--dataset', type=str, default='coco',\n",
    "                        help='Testing dataset. Now support voc.')\n",
    "    parser.add_argument('--images', type=str, default='',\n",
    "                        help='Test images, use comma to split multiple.')\n",
    "    parser.add_argument('--gpus', type=str, default='',\n",
    "                        help='Training with GPUs, you can specify 1,3 for example.')\n",
    "    parser.add_argument('--pretrained_path', type=str,\n",
    "                        help='Load weights from previously saved parameters.')\n",
    "    parser.add_argument('--thresh', type=float, default=0.5,\n",
    "                        help='Threshold of object score when visualize the bboxes.')\n",
    "    args = parser.parse_args(['--network', 'efficientdet-d0',\n",
    "                       '--data-shape', '512',\n",
    "                       '--dataset', 'nzrc',\n",
    "                       '--gpus', '',\n",
    "                       '--thresh', '0.03',\n",
    "                       #'--images', 'D:/Users/Vince/Downloads/datasets/NZRC/ML4DR_V2/imagesVal/0000000001.jpg',\n",
    "                       '--images', 'D:/Users/Vince/Downloads/datasets/OpenAerialMap/test.png',\n",
    "                       '--pretrained_path', './checkpoint/efficientdet-d0_512_nzrc_0100_0.0000.params'\n",
    "                      ])\n",
    "    return args"
   ]
  },
  {
   "cell_type": "code",
   "execution_count": null,
   "metadata": {},
   "outputs": [],
   "source": [
    "if __name__ == '__main__':\n",
    "    args = parse_args()\n",
    "    # context list\n",
    "    ctx = [mx.gpu(int(i)) for i in args.gpus.split(',') if i.strip()]\n",
    "    ctx = [mx.cpu()] if not ctx else ctx\n",
    "    print(\"ctx=\", ctx)\n",
    "    \n",
    "    # grab some image if not specified\n",
    "    if not args.images.strip():\n",
    "        gcv.utils.download(\"https://cloud.githubusercontent.com/assets/3307514/\" +\n",
    "            \"20012568/cbc2d6f6-a27d-11e6-94c3-d35a9cb47609.jpg\", 'street.jpg')\n",
    "        image_list = ['street.jpg']\n",
    "    else:\n",
    "        image_list = [x.strip() for x in args.images.split(',') if x.strip()]\n",
    "\n",
    "    if args.dataset.lower() == 'coco':\n",
    "        from gluoncv.data import COCODetection\n",
    "        classes = COCODetection.CLASSES\n",
    "    elif args.dataset.lower() == 'voc':\n",
    "        from gluoncv.data import VOCDetection\n",
    "        classes = VOCDetection.CLASSES\n",
    "    elif args.dataset.lower() == 'nzrc':\n",
    "        classes = ['No Damage', 'Minor Damage', 'Major Damage', 'Destroyed']\n",
    "    else:\n",
    "        raise NotImplementedError('Dataset: {} not implemented.'.format(args.dataset))\n",
    "\n",
    "    net = get_efficientdet(args.network, classes, pretrained_base=False)\n",
    "    net.load_parameters(args.pretrained_path)\n",
    "    net.set_nms(0.45, 200)\n",
    "    net.collect_params().reset_ctx(ctx = ctx)\n"
   ]
  },
  {
   "cell_type": "code",
   "execution_count": null,
   "metadata": {
    "scrolled": true
   },
   "outputs": [],
   "source": [
    "# Visualize your network\n",
    "#mx.viz.plot_network(net)\n",
    "net"
   ]
  },
  {
   "cell_type": "code",
   "execution_count": null,
   "metadata": {
    "scrolled": false
   },
   "outputs": [],
   "source": [
    "if __name__ == '__main__':\n",
    "    args = parse_args()\n",
    "    # context list\n",
    "    ctx = [mx.gpu(int(i)) for i in args.gpus.split(',') if i.strip()]\n",
    "    ctx = [mx.cpu()] if not ctx else ctx\n",
    "    print(\"ctx=\", ctx)\n",
    "    \n",
    "    # grab some image if not specified\n",
    "    if not args.images.strip():\n",
    "        gcv.utils.download(\"https://cloud.githubusercontent.com/assets/3307514/\" +\n",
    "            \"20012568/cbc2d6f6-a27d-11e6-94c3-d35a9cb47609.jpg\", 'street.jpg')\n",
    "        image_list = ['street.jpg']\n",
    "    else:\n",
    "        image_list = [x.strip() for x in args.images.split(',') if x.strip()]\n",
    "\n",
    "    if args.dataset.lower() == 'coco':\n",
    "        from gluoncv.data import COCODetection\n",
    "        classes = COCODetection.CLASSES\n",
    "    elif args.dataset.lower() == 'voc':\n",
    "        from gluoncv.data import VOCDetection\n",
    "        classes = VOCDetection.CLASSES\n",
    "    elif args.dataset.lower() == 'nzrc':\n",
    "        classes = ['No Damage', 'Minor Damage', 'Major Damage', 'Destroyed']\n",
    "    else:\n",
    "        raise NotImplementedError('Dataset: {} not implemented.'.format(args.dataset))\n",
    "\n",
    "    net = get_efficientdet(args.network, classes, pretrained_base=False)\n",
    "    net.load_parameters(args.pretrained_path)\n",
    "    net.set_nms(0.45, 200)\n",
    "    net.collect_params().reset_ctx(ctx = ctx)\n",
    "\n",
    "    for image in image_list:\n",
    "        fig = plt.figure()\n",
    "        ax = fig.add_axes([0, 0, 3, 3])\n",
    "        x, img = load_img(image)\n",
    "        x = x.as_in_context(ctx[0])\n",
    "        ids, scores, bboxes = [xx[0].asnumpy() for xx in net(x)]\n",
    "        ax = gcv.utils.viz.plot_bbox(img, bboxes, scores, ids, thresh=args.thresh,\n",
    "                                    class_names=net.classes, ax=ax)\n",
    "        plt.show()\n",
    "    \n",
    "    for id, score, bbox in zip(ids, scores, bboxes):\n",
    "        if id > -1:\n",
    "            print(\"id={0[0]:<1.0f} score={1[0]:5.3f} box=[{2[0]:7.3f}, {2[1]:7.3f}, {2[2]:7.3f}, {2[3]:7.3f}] {3}\".format(id, score, bbox, classes[int(id)]))"
   ]
  }
 ],
 "metadata": {
  "kernelspec": {
   "display_name": "Python 3",
   "language": "python",
   "name": "python3"
  },
  "language_info": {
   "codemirror_mode": {
    "name": "ipython",
    "version": 3
   },
   "file_extension": ".py",
   "mimetype": "text/x-python",
   "name": "python",
   "nbconvert_exporter": "python",
   "pygments_lexer": "ipython3",
   "version": "3.6.8"
  }
 },
 "nbformat": 4,
 "nbformat_minor": 4
}
