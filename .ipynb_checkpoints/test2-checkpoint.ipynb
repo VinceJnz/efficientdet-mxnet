{
 "cells": [
  {
   "cell_type": "code",
   "execution_count": null,
   "metadata": {},
   "outputs": [],
   "source": [
    "import mxnet as mx"
   ]
  },
  {
   "cell_type": "code",
   "execution_count": null,
   "metadata": {},
   "outputs": [],
   "source": [
    "user = mx.symbol.Variable('user')\n",
    "item = mx.symbol.Variable('item')\n",
    "score = mx.symbol.Variable('score')"
   ]
  },
  {
   "cell_type": "code",
   "execution_count": null,
   "metadata": {},
   "outputs": [],
   "source": [
    "# Set dummy dimensions\n",
    "k = 64\n",
    "max_user = 100\n",
    "max_item = 50\n",
    "\n",
    "# user feature lookup\n",
    "user = mx.symbol.Embedding(data = user, input_dim = max_user, output_dim = k)\n",
    "\n",
    "# item feature lookup\n",
    "item = mx.symbol.Embedding(data = item, input_dim = max_item, output_dim = k)\n",
    "\n",
    "# predict by the inner product, which is elementwise product and then sum\n",
    "net = user * item\n",
    "net = mx.symbol.sum_axis(data = net, axis = 1)\n",
    "net = mx.symbol.Flatten(data = net)\n",
    "\n",
    "# loss layer\n",
    "net = mx.symbol.LinearRegressionOutput(data = net, label = score)"
   ]
  },
  {
   "cell_type": "code",
   "execution_count": null,
   "metadata": {},
   "outputs": [],
   "source": [
    "# Visualize your network\n",
    "mx.viz.plot_network(net)"
   ]
  }
 ],
 "metadata": {
  "kernelspec": {
   "display_name": "Python 3",
   "language": "python",
   "name": "python3"
  },
  "language_info": {
   "codemirror_mode": {
    "name": "ipython",
    "version": 3
   },
   "file_extension": ".py",
   "mimetype": "text/x-python",
   "name": "python",
   "nbconvert_exporter": "python",
   "pygments_lexer": "ipython3",
   "version": "3.6.8"
  }
 },
 "nbformat": 4,
 "nbformat_minor": 4
}
