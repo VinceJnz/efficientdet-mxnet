{
 "cells": [
  {
   "cell_type": "code",
   "execution_count": 1,
   "metadata": {},
   "outputs": [],
   "source": [
    "import os\n",
    "import io"
   ]
  },
  {
   "cell_type": "code",
   "execution_count": 2,
   "metadata": {},
   "outputs": [],
   "source": [
    "#fp = open(\"hello.txt\", \"r\")\n",
    "#fp = io.FileIO(\"hello.txt\", mode=\"r\")\n",
    "fp = io.FileIO(\"hello.txt\", mode=\"rb\")"
   ]
  },
  {
   "cell_type": "code",
   "execution_count": 38,
   "metadata": {},
   "outputs": [
    {
     "name": "stdout",
     "output_type": "stream",
     "text": [
      "Help on FileIO object:\n",
      "\n",
      "class FileIO(_RawIOBase)\n",
      " |  Open a file.\n",
      " |  \n",
      " |  The mode can be 'r' (default), 'w', 'x' or 'a' for reading,\n",
      " |  writing, exclusive creation or appending.  The file will be created if it\n",
      " |  doesn't exist when opened for writing or appending; it will be truncated\n",
      " |  when opened for writing.  A FileExistsError will be raised if it already\n",
      " |  exists when opened for creating. Opening a file for creating implies\n",
      " |  writing so this mode behaves in a similar way to 'w'.Add a '+' to the mode\n",
      " |  to allow simultaneous reading and writing. A custom opener can be used by\n",
      " |  passing a callable as *opener*. The underlying file descriptor for the file\n",
      " |  object is then obtained by calling opener with (*name*, *flags*).\n",
      " |  *opener* must return an open file descriptor (passing os.open as *opener*\n",
      " |  results in functionality similar to passing None).\n",
      " |  \n",
      " |  Method resolution order:\n",
      " |      FileIO\n",
      " |      _RawIOBase\n",
      " |      _IOBase\n",
      " |      builtins.object\n",
      " |  \n",
      " |  Methods defined here:\n",
      " |  \n",
      " |  __getattribute__(self, name, /)\n",
      " |      Return getattr(self, name).\n",
      " |  \n",
      " |  __getstate__(...)\n",
      " |  \n",
      " |  __init__(self, /, *args, **kwargs)\n",
      " |      Initialize self.  See help(type(self)) for accurate signature.\n",
      " |  \n",
      " |  __new__(*args, **kwargs) from builtins.type\n",
      " |      Create and return a new object.  See help(type) for accurate signature.\n",
      " |  \n",
      " |  __repr__(self, /)\n",
      " |      Return repr(self).\n",
      " |  \n",
      " |  close(self, /)\n",
      " |      Close the file.\n",
      " |      \n",
      " |      A closed file cannot be used for further I/O operations.  close() may be\n",
      " |      called more than once without error.\n",
      " |  \n",
      " |  fileno(self, /)\n",
      " |      Return the underlying file descriptor (an integer).\n",
      " |  \n",
      " |  isatty(self, /)\n",
      " |      True if the file is connected to a TTY device.\n",
      " |  \n",
      " |  read(self, size=-1, /)\n",
      " |      Read at most size bytes, returned as bytes.\n",
      " |      \n",
      " |      Only makes one system call, so less data may be returned than requested.\n",
      " |      In non-blocking mode, returns None if no data is available.\n",
      " |      Return an empty bytes object at EOF.\n",
      " |  \n",
      " |  readable(self, /)\n",
      " |      True if file was opened in a read mode.\n",
      " |  \n",
      " |  readall(self, /)\n",
      " |      Read all data from the file, returned as bytes.\n",
      " |      \n",
      " |      In non-blocking mode, returns as much as is immediately available,\n",
      " |      or None if no data is available.  Return an empty bytes object at EOF.\n",
      " |  \n",
      " |  readinto(self, buffer, /)\n",
      " |      Same as RawIOBase.readinto().\n",
      " |  \n",
      " |  seek(self, pos, whence=0, /)\n",
      " |      Move to new file position and return the file position.\n",
      " |      \n",
      " |      Argument offset is a byte count.  Optional argument whence defaults to\n",
      " |      SEEK_SET or 0 (offset from start of file, offset should be >= 0); other values\n",
      " |      are SEEK_CUR or 1 (move relative to current position, positive or negative),\n",
      " |      and SEEK_END or 2 (move relative to end of file, usually negative, although\n",
      " |      many platforms allow seeking beyond the end of a file).\n",
      " |      \n",
      " |      Note that not all file objects are seekable.\n",
      " |  \n",
      " |  seekable(self, /)\n",
      " |      True if file supports random-access.\n",
      " |  \n",
      " |  tell(self, /)\n",
      " |      Current file position.\n",
      " |      \n",
      " |      Can raise OSError for non seekable files.\n",
      " |  \n",
      " |  truncate(self, size=None, /)\n",
      " |      Truncate the file to at most size bytes and return the truncated size.\n",
      " |      \n",
      " |      Size defaults to the current file position, as returned by tell().\n",
      " |      The current file position is changed to the value of size.\n",
      " |  \n",
      " |  writable(self, /)\n",
      " |      True if file was opened in a write mode.\n",
      " |  \n",
      " |  write(self, b, /)\n",
      " |      Write buffer b to file, return number of bytes written.\n",
      " |      \n",
      " |      Only makes one system call, so not all of the data may be written.\n",
      " |      The number of bytes actually written is returned.  In non-blocking mode,\n",
      " |      returns None if the write would block.\n",
      " |  \n",
      " |  ----------------------------------------------------------------------\n",
      " |  Data descriptors defined here:\n",
      " |  \n",
      " |  closed\n",
      " |      True if the file is closed\n",
      " |  \n",
      " |  closefd\n",
      " |      True if the file descriptor will be closed by close().\n",
      " |  \n",
      " |  mode\n",
      " |      String giving the file mode\n",
      " |  \n",
      " |  ----------------------------------------------------------------------\n",
      " |  Methods inherited from _IOBase:\n",
      " |  \n",
      " |  __del__(...)\n",
      " |  \n",
      " |  __enter__(...)\n",
      " |  \n",
      " |  __exit__(...)\n",
      " |  \n",
      " |  __iter__(self, /)\n",
      " |      Implement iter(self).\n",
      " |  \n",
      " |  __next__(self, /)\n",
      " |      Implement next(self).\n",
      " |  \n",
      " |  flush(self, /)\n",
      " |      Flush write buffers, if applicable.\n",
      " |      \n",
      " |      This is not implemented for read-only and non-blocking streams.\n",
      " |  \n",
      " |  readline(self, size=-1, /)\n",
      " |      Read and return a line from the stream.\n",
      " |      \n",
      " |      If size is specified, at most size bytes will be read.\n",
      " |      \n",
      " |      The line terminator is always b'\\n' for binary files; for text\n",
      " |      files, the newlines argument to open can be used to select the line\n",
      " |      terminator(s) recognized.\n",
      " |  \n",
      " |  readlines(self, hint=-1, /)\n",
      " |      Return a list of lines from the stream.\n",
      " |      \n",
      " |      hint can be specified to control the number of lines read: no more\n",
      " |      lines will be read if the total size (in bytes/characters) of all\n",
      " |      lines so far exceeds hint.\n",
      " |  \n",
      " |  writelines(self, lines, /)\n",
      " |  \n",
      " |  ----------------------------------------------------------------------\n",
      " |  Data descriptors inherited from _IOBase:\n",
      " |  \n",
      " |  __dict__\n",
      "\n"
     ]
    }
   ],
   "source": [
    "help(fp)"
   ]
  },
  {
   "cell_type": "code",
   "execution_count": 39,
   "metadata": {},
   "outputs": [
    {
     "data": {
      "text/plain": [
       "'hello.txt'"
      ]
     },
     "execution_count": 39,
     "metadata": {},
     "output_type": "execute_result"
    }
   ],
   "source": [
    "fp.name"
   ]
  },
  {
   "cell_type": "code",
   "execution_count": 3,
   "metadata": {},
   "outputs": [
    {
     "data": {
      "text/plain": [
       "4"
      ]
     },
     "execution_count": 3,
     "metadata": {},
     "output_type": "execute_result"
    }
   ],
   "source": [
    "fp.fileno()"
   ]
  },
  {
   "cell_type": "code",
   "execution_count": 41,
   "metadata": {},
   "outputs": [
    {
     "data": {
      "text/plain": [
       "b'Test'"
      ]
     },
     "execution_count": 41,
     "metadata": {},
     "output_type": "execute_result"
    }
   ],
   "source": [
    "fp.read()"
   ]
  },
  {
   "cell_type": "code",
   "execution_count": 6,
   "metadata": {},
   "outputs": [
    {
     "data": {
      "text/plain": [
       "False"
      ]
     },
     "execution_count": 6,
     "metadata": {},
     "output_type": "execute_result"
    }
   ],
   "source": [
    "fp.isatty()"
   ]
  },
  {
   "cell_type": "code",
   "execution_count": 36,
   "metadata": {},
   "outputs": [],
   "source": [
    "fp.close()\n",
    "t.close()"
   ]
  },
  {
   "cell_type": "code",
   "execution_count": 18,
   "metadata": {},
   "outputs": [
    {
     "name": "stdout",
     "output_type": "stream",
     "text": [
      "Help on built-in function device_encoding in module nt:\n",
      "\n",
      "device_encoding(fd)\n",
      "    Return a string describing the encoding of a terminal's file descriptor.\n",
      "    \n",
      "    The file descriptor must be attached to a terminal.\n",
      "    If the device is not a terminal, return None.\n",
      "\n"
     ]
    }
   ],
   "source": [
    "help(os.device_encoding)"
   ]
  },
  {
   "cell_type": "code",
   "execution_count": 8,
   "metadata": {},
   "outputs": [
    {
     "data": {
      "text/plain": [
       "<generator object walk at 0x0000019712427200>"
      ]
     },
     "execution_count": 8,
     "metadata": {},
     "output_type": "execute_result"
    }
   ],
   "source": [
    "os.walk(4)"
   ]
  }
 ],
 "metadata": {
  "kernelspec": {
   "display_name": "Python 3",
   "language": "python",
   "name": "python3"
  },
  "language_info": {
   "codemirror_mode": {
    "name": "ipython",
    "version": 3
   },
   "file_extension": ".py",
   "mimetype": "text/x-python",
   "name": "python",
   "nbconvert_exporter": "python",
   "pygments_lexer": "ipython3",
   "version": "3.6.8"
  }
 },
 "nbformat": 4,
 "nbformat_minor": 4
}
